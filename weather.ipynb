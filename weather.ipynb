{
 "cells": [
  {
   "cell_type": "markdown",
   "id": "abfe0ae9-7243-4867-af61-027b165ebae9",
   "metadata": {},
   "source": [
    "## Task 8: Notebook\n",
    "Create a notebook called weather.ipynb at the root of your repository. In this notebook, \n",
    "write a brief report explaining how you completed Tasks 1 to 7. \n",
    "Provide short descriptions of the commands used in each task and explain their role in \n",
    "completing the tasks"
   ]
  },
  {
   "cell_type": "markdown",
   "id": "7a3d53ab-c573-49ee-a922-e633cabc72b9",
   "metadata": {},
   "source": [
    "This notebook contains the Research documentation on the tasks developed throughout the \n",
    "Computer Infrastructure lectures given by Mr. McLoughlin at ATU."
   ]
  },
  {
   "cell_type": "markdown",
   "id": "ffdfe664-2ab1-420f-a6c1-eaf4f477db09",
   "metadata": {},
   "source": [
    "### Introduction\n",
    "\n",
    "In this module, we’ll work through a series of tasks aimed at building foundational \n",
    "skills for handling data through the command line and automating processes. These tasks will cover \n",
    "creating a structured directory for data organization, understanding timestamps and their significance \n",
    "in tracking events, and formatting them effectively. We will also explore how to use APIs to download \n",
    "structured data and automate the process using scripts. By the end, you'll gain practical experience in \n",
    "data handling, automation, and organizing data for efficient management. \n",
    "\n",
    "Let’s dive into each task step by step:"
   ]
  },
  {
   "cell_type": "markdown",
   "id": "f955f505-faea-487c-b833-7f1fe5ff5314",
   "metadata": {},
   "source": [
    "### Task 1: Create Directory Structure \n",
    "\n",
    "Begin by setting up a simple directory structure using the command line. This involves creating a data folder at \n",
    "the root of your repository and adding two subdirectories: timestamps and weather. This step is essential as it lays the \n",
    "foundation for organizing files and data throughout the project. Using terminal commands, you will establish a clean and \n",
    "organized folder hierarchy to ensure a systematic approach for subsequent tasks."
   ]
  },
  {
   "cell_type": "markdown",
   "id": "43a69d6b-f0db-4f21-8ad4-00f656f2057d",
   "metadata": {},
   "source": [
    "### Task 2: Timestamps\n",
    "\n",
    "Understand the importance of timestamps and how to create them for tracking events, especially when working across different \n",
    "time zones. This task introduces the basics of handling timestamps, an essential yet often overlooked skill. Navigate to the \n",
    "data/timestamps directory and use the date command to log the current date and time into now.txt, appending entries with \n",
    "the >> operator. Repeat this process ten times and use the more command to check that now.txt contains all the expected entries."
   ]
  },
  {
   "cell_type": "markdown",
   "id": "b97cb250-ec67-43c8-b1c9-8dde7395a12e",
   "metadata": {},
   "source": [
    "### Task 3: Formatting Timestamps\n",
    "\n",
    "Format timestamps to include the year, month, day, hour, minute, and second using the date command in a custom format \n",
    "(e.g., YYYYmmdd_HHMMSS). This is especially useful for preventing duplicate filenames in fast-paced processes. While milliseconds \n",
    "could be used for higher precision, we'll focus on second-level accuracy. For example, a formatted timestamp could look \n",
    "like 20241110_153045 for 3:30:45 PM on November 10, 2024. Explore additional formatting options by checking the man date manual \n",
    "(exit with q). Append the formatted timestamp to formatted.txt using the >> operator."
   ]
  },
  {
   "cell_type": "markdown",
   "id": "934e00ae-1dab-4d3a-b6dd-07c867c868b4",
   "metadata": {},
   "source": [
    "### Task 4: Create Timestamped Files\n",
    "\n",
    "Generate timestamped files using the touch command combined with a formatted date command. This approach creates files with \n",
    "names based on the current timestamp (e.g., YYYYmmdd_HHMMSS.txt), which helps keep them organized chronologically without \n",
    "needing redirection. By embedding the date command within backticks, you can dynamically create a file with a timestamped name, \n",
    "simplifying file management and maintaining an orderly structure. This method streamlines file creation while ensuring unique \n",
    "and sortable filenames."
   ]
  },
  {
   "cell_type": "markdown",
   "id": "8911aeaf-c96c-4b41-9139-881d2c06186c",
   "metadata": {},
   "source": [
    "### Task 5: Download Today’s Weather Data\n",
    "\n",
    "Navigate to the data/weather directory and use wget to retrieve the latest weather data for the Athenry station from Met Éireann’s API. \n",
    "Save the output as weather.json by using the -O <filename> option. This method allows you to access structured weather information \n",
    "programmatically, avoiding the need for manual data scraping from a webpage. The data can be fetched through Metweb's API endpoint, \n",
    "simplifying integration and enhancing project workflows."
   ]
  },
  {
   "cell_type": "markdown",
   "id": "27a7b3b8-2ee6-4389-83d0-b610a5a85408",
   "metadata": {},
   "source": [
    "### Task 6: Timestamp the Data\n",
    "\n",
    "Enhance the wget command to save the weather data with a timestamped filename (e.g., YYYYmmdd_HHMMSS.json) for better tracking \n",
    "and organization. By using Metweb’s API, you can access structured weather information for the Athenry station. Modify the previous \n",
    "wget command from Task 5 so the downloaded file includes a timestamp in its name. This approach helps keep your data organized and \n",
    "allows for easy retrieval based on when the data was collected."
   ]
  },
  {
   "cell_type": "markdown",
   "id": "86d4aab3-8dd0-4601-bf2b-db9b4c929fee",
   "metadata": {},
   "source": [
    "### Task 7: Write the Script\n",
    "\n",
    "To make the process more efficient, we can create a script to avoid having to manually run the command each time. By writing a bash script named weather.sh in the root of your repository, we can automate the steps from Task 6 and save the weather data directly into the data/weather directory. Once created, we need to make the script executable and test it to ensure it runs as expected."
   ]
  },
  {
   "cell_type": "markdown",
   "id": "cc3ef456-eb7e-4141-8e0c-13f66f9c53f5",
   "metadata": {},
   "source": [
    "#### END"
   ]
  }
 ],
 "metadata": {
  "kernelspec": {
   "display_name": "Python 3 (ipykernel)",
   "language": "python",
   "name": "python3"
  },
  "language_info": {
   "codemirror_mode": {
    "name": "ipython",
    "version": 3
   },
   "file_extension": ".py",
   "mimetype": "text/x-python",
   "name": "python",
   "nbconvert_exporter": "python",
   "pygments_lexer": "ipython3",
   "version": "3.12.1"
  }
 },
 "nbformat": 4,
 "nbformat_minor": 5
}
