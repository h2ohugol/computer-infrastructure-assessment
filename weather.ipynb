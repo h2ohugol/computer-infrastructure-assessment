{
 "cells": [
  {
   "cell_type": "markdown",
   "id": "abfe0ae9-7243-4867-af61-027b165ebae9",
   "metadata": {},
   "source": [
    "## Task 8: Notebook\n",
    "Create a notebook called weather.ipynb at the root of your repository. In this notebook, \n",
    "write a brief report explaining how you completed Tasks 1 to 7. \n",
    "Provide short descriptions of the commands used in each task and explain their role in \n",
    "completing the tasks"
   ]
  },
  {
   "cell_type": "markdown",
   "id": "7a3d53ab-c573-49ee-a922-e633cabc72b9",
   "metadata": {},
   "source": [
    "This notebook contains the Research documentation on the tasks developed throughout the \n",
    "Computer Infrastructure lectures given by Mr. McLoughlin at ATU."
   ]
  },
  {
   "cell_type": "markdown",
   "id": "ffdfe664-2ab1-420f-a6c1-eaf4f477db09",
   "metadata": {},
   "source": [
    "### Introduction\n",
    "\n",
    "In this module, we’ll work through a series of tasks aimed at building foundational \n",
    "skills for handling data through the command line and automating processes. These tasks will cover \n",
    "creating a structured directory for data organization, understanding timestamps and their significance \n",
    "in tracking events, and formatting them effectively. We will also explore how to use APIs to download \n",
    "structured data and automate the process using scripts. By the end, you'll gain practical experience in \n",
    "data handling, automation, and organizing data for efficient management. \n"
   ]
  },
  {
   "cell_type": "markdown",
   "id": "9c3da1b5",
   "metadata": {},
   "source": [
    "![cloud_infrastructure](img/cloud_infrastructure_tasks.jpg)"
   ]
  },
  {
   "cell_type": "markdown",
   "id": "f955f505-faea-487c-b833-7f1fe5ff5314",
   "metadata": {},
   "source": [
    "### Task 1: Create Directory Structure \n",
    " \n",
    "All tasks in this project are carried out in [GitHub Codespaces](https://docs.github.com/en/codespaces/overview) within [Linux Bash environment](https://www.javatpoint.com/linux-bash) as part of the Computer Infrastructure Assessment. This setup provides a solid built and practical platform for managing and executing [commands](https://github.com/trinib/Linux-Bash-Commands) efficiently.  \n",
    "\n",
    "A structured and organized directory layout is created using the command line. This involves setting up a `data` folder at the root of the repository, with two subdirectories: `timestamps` and `weather`. This foundational step ensures efficient organization of files and data for the project as it progresses.  \n",
    "\n",
    "At this stage, essential Linux commands are utilized, such as `cd`, `.` and `..` for directory navigation, `ls` to list contents, and file viewing with [more](https://linuxhandbook.com/more-command/) and [cat](https://linuxhandbook.com/cat-command/). Building on these fundamentals, commands like [mkdir](https://linuxhandbook.com/mkdir-command/) for creating directories, [rmdir](https://linuxhandbook.com/rmdir-command/) for removing them, and file editing with tools like [nano](https://linuxhandbook.com/nano-editor-basics/) or [vi](https://www.javatpoint.com/vi-editor) are applied.  \n",
    "\n",
    "This approach establishes a clean and systematic folder hierarchy, ensuring a structured workflow for subsequent tasks while leveraging the capabilities of GitHub Codespaces."
   ]
  },
  {
   "cell_type": "markdown",
   "id": "43a69d6b-f0db-4f21-8ad4-00f656f2057d",
   "metadata": {},
   "source": [
    "### Task 2: Timestamps\n",
    "\n",
    "#### Creating and Appending Files with Timestamps\n",
    "\n",
    "This task focuses on creating and appending files, emphasizing the importance of timestamps for tracking events, especially when working across multiple time zones. The `date` command with the format `+\"%Y%m%d_%H%M%S\"` is used to generate precise timestamps. This introduces the fundamentals of handling [timestamps](https://www.lenovo.com/ie/en/glossary/timestamp/?orgRef=https%253A%252F%252Fwww.google.ie%252F&srsltid=AfmBOopf3SlJnpeNNvJiDISLPR7b58DYONILTyZ7IF1M6I3zOFVye3ND#:~:text=Learn%20More-,What%20is%20a%20timestamp%3F,deduplication%20systems%20can%20identify%20identical%20data%20chunks%20and%20store%20them%20only,-once%2C%20reducing%20storage), an essential yet often underappreciated skill.\n",
    "\n",
    "\n",
    "Navigate to the `data/timestamps` directory and use the `date`command to log the current date and time into a file named `now.txt`. Use the append operator (`>>`) to add entries without overwriting existing data. Repeat this process ten times and verify the contents of `now.txt` using the `more` command.\n",
    "\n",
    "\n",
    "It's crucial to differentiate between the append operator [>>](https://www.cyberciti.biz/faq/linux-append-text-to-end-of-file/) and the overwrite operator [>](https://unix.stackexchange.com/questions/171025/what-does-do-vs). While `>>` adds new data to the file, the single right angle bracket `>` overwrites the file, erasing all existing content. For example:\n",
    "\n",
    "\n",
    "##### Appending a timestamp:\n",
    "\n",
    "•\t**date +\"%Y%m%d_%H%M%S\" >> timestamps.txt**\n",
    "\n",
    "\n",
    "This adds a new timestamp to `timestamps.txt` each time the command is run.\n",
    "\n",
    "##### Overwriting a file:\n",
    "\n",
    "•\t**date +\"%Y%m%d_%H%M%S\" > timestamps.txt**\n",
    "\n",
    "Using the `>` operator will replace all existing entries in the file, leaving only the most recent timestamp.\n",
    "\n",
    "\n",
    "To avoid accidental overwrites and potential loss of data, always use `>>` when appending timestamps. For example, running the command multiple times with cat timestamps.txt will show a growing list of timestamps, while using `>` will result in a single timestamp, erasing all previous data with no way to recover it.\n",
    "\n",
    "\n"
   ]
  },
  {
   "cell_type": "markdown",
   "id": "b97cb250-ec67-43c8-b1c9-8dde7395a12e",
   "metadata": {},
   "source": [
    "### Task 3: Formatting Timestamps\n",
    "\n",
    "\n",
    "\n",
    "### Capture System Memory Usage with Timestamped Files\n",
    "\n",
    "\n",
    "```bash\n",
    "# Capture system memory usage and append it to a file with a timestamped name\n",
    "free -h > `date +\"%Y%m%d_%H%M%S.txt\"`\n",
    "```\n",
    "\n",
    "#### Explanation\n",
    "\n",
    "- The `free -h` command provides a summary of system memory usage in a human-readable format.\n",
    "\n",
    "- The `date +\"%Y%m%d_%H%M%S\"` command generates a timestamp in the format `YYYYmmdd_HHMMSS`. \n",
    "\n",
    "  For example, `20241110_153045` represents **November 10, 2024, at 3:30:45 PM**.\n",
    "\n",
    "\n",
    "- Backticks are used to execute the `date` command and embed its output into the file name dynamically.\n",
    "\n",
    "- The `>` operator redirects the output of `free -h` into the timestamped file, ensuring a unique file for each execution.\n",
    "\n",
    "\n",
    "#### Why Use Timestamps?\n",
    "- [Formatting timestamps](https://www.gnu.org/software/coreutils/manual/html_node/Formatting-file-timestamps.html) prevent overwriting files, especially in fast-paced processes where multiple files may be created within short timeframes.\n",
    "\n",
    "- While milliseconds could be used for higher precision, second-level accuracy is sufficient for this task.\n",
    "\n",
    "#### Additional Notes\n",
    "- To explore more formatting options for the `date` command, use the `man date` manual. Exit the manual by pressing `q`.\n",
    "\n",
    "- Example file name:\n",
    "\n",
    "  - Running the command on **November 10, 2024, at 3:30:45 PM** will create a file named:\n",
    "\n",
    "    ```\n",
    "    20241110_153045.txt\n",
    "    ```\n"
   ]
  },
  {
   "cell_type": "markdown",
   "id": "934e00ae-1dab-4d3a-b6dd-07c867c868b4",
   "metadata": {},
   "source": [
    "### Task 4: Create Timestamped Files\n",
    "\n",
    "\n",
    "#### Creating Files with Unique, Chronologically Organized Names\n",
    "\n",
    "Timestamped files are a practical way to manage files in a structured and orderly manner. By generating filenames based on the current timestamp, you can ensure unique and sortable file names. This method is especially useful in environments where multiple files are created rapidly, as it prevents overwriting and maintains a logical sequence.\n",
    "\n",
    "To create an empty file with a timestamped name, use the `touch` command combined with the `date` command. The `date` command dynamically generates the timestamp, which is embedded in the file name using backticks. This approach eliminates the need for redirection (`>>`) and ensures a clean, organized file creation process.\n",
    "\n",
    "#### Command Example\n",
    "\n",
    "```bash\n",
    "# Create an empty file with a timestamped name\n",
    "touch `date +\"%Y%m%d_%H%M%S.txt\"`\n",
    "```\n",
    "\n",
    "#### Explanation\n",
    "\n",
    "- The `touch` command creates an empty file.\n",
    "\n",
    "- The `date +\"%Y%m%d_%H%M%S\"` command formats the current date and time into a string, such as `20241219_151530` \n",
    "for **December 19, 2024, at 3:15:30 PM**.\n",
    "\n",
    "- Backticks execute the `date` command and use its output as the file name, ensuring each file has a unique name based on the precise time of creation.\n",
    "\n",
    "#### Benefits of Timestamped Files\n",
    "\n",
    "1. **Chronological Organization**: Files are automatically sorted by time, making them easier to locate and manage.\n",
    "\n",
    "2. **Prevents Overwriting**: Each file has a unique name, eliminating the risk of overwriting existing files.\n",
    "\n",
    "3. **Streamlined File Management**: Automates the naming process, reducing manual intervention.\n",
    "\n",
    "#### Additional Notes\n",
    "\n",
    "- Avoid using a single redirection operator (>) in scenarios where preserving existing data is critical, as it will overwrite the file contents.\n",
    "\n",
    "- For more date formatting options, refer to the `man date` manual (exit with q).\n",
    "\n",
    "- Example file name:\n",
    "  - Running the command on **December 19, 2024, at 3:15:30 PM** will create a file named:\n",
    "\n",
    "    ```\n",
    "    20241219_151530.txt\n",
    "    ```\n"
   ]
  },
  {
   "cell_type": "markdown",
   "id": "8911aeaf-c96c-4b41-9139-881d2c06186c",
   "metadata": {},
   "source": [
    "### Task 5: Download Today’s Weather Data\n",
    "\n",
    "\n",
    "To programmatically retrieve the latest weather data for the Athenry station from Met Éireann, navigate to the `data/weather` directory and use \n",
    "\n",
    "the `wget` command. This command fetches structured weather data directly from Met Éireann’s API, located at:  \n",
    "\n",
    "[https://prodapi.metweb.ie/observations/athenry/today](https://prodapi.metweb.ie/observations/athenry/today).\n",
    "\n",
    "\n",
    "#### Command Example\n",
    "\n",
    "```bash\n",
    "wget -O weather.json https://prodapi.metweb.ie/observations/athenry/today\n",
    "```\n",
    "\n",
    "#### Key Details\n",
    "\n",
    "- **Saving Output**: The `-O weather.json` option specifies the output file name, ensuring the data is saved directly as `weather.json` in the `data/weather` directory.\n",
    "\n",
    "- **Programmatic Access**: This method provides structured data via the Metweb API, eliminating the need for manual web scraping, simplifying integration, and enhancing project workflows.\n",
    "\n",
    "\n",
    "#### HTTP and Its Importance\n",
    "\n",
    "\n",
    "The `wget` command uses the [HTTP](https://www.jmarshall.com/easy/http/) protocol to request and retrieve data over the internet. HTTP is the foundation of online data exchange, enabling efficient communication between clients (your command line) and servers (Met Éireann's API). Understanding HTTP is essential for managing API requests and responses effectively.\n",
    "\n",
    "\n",
    "#### Installing `wget`\n",
    "\n",
    "If `wget` is not already installed on your system, it can be added with the following command:\n",
    "```bash\n",
    "sudo apt update && sudo apt install wget -y\n",
    "```\n",
    "\n",
    "This ensures `wget` is available for retrieving data and other related tasks, further enhancing automation and efficiency in your workflows.\n"
   ]
  },
  {
   "cell_type": "markdown",
   "id": "27a7b3b8-2ee6-4389-83d0-b610a5a85408",
   "metadata": {},
   "source": [
    "### Task 6: Timestamp the Data\n",
    "\n",
    "Enhance the wget command to save the weather data with a timestamped filename (e.g., YYYYmmdd_HHMMSS.json) for better tracking \n",
    "and organization. By using Metweb’s API, you can access structured weather information for the Athenry station. Modify the previous \n",
    "wget command from Task 5 so the downloaded file includes a timestamp in its name. This approach helps keep your data organized and \n",
    "allows for easy retrieval based on when the data was collected."
   ]
  },
  {
   "cell_type": "markdown",
   "id": "86d4aab3-8dd0-4601-bf2b-db9b4c929fee",
   "metadata": {},
   "source": [
    "### Task 7: Write the Script\n",
    "\n",
    "To make the process more efficient, we can create a script to avoid having to manually run the command each time. By writing a bash script named weather.sh in the root of your repository, we can automate the steps from Task 6 and save the weather data directly into the data/weather directory. Once created, we need to make the script executable and test it to ensure it runs as expected."
   ]
  },
  {
   "cell_type": "markdown",
   "id": "023f66dd",
   "metadata": {},
   "source": [
    "## Task 9"
   ]
  },
  {
   "cell_type": "markdown",
   "id": "cc3ef456-eb7e-4141-8e0c-13f66f9c53f5",
   "metadata": {},
   "source": [
    "#### END"
   ]
  }
 ],
 "metadata": {
  "kernelspec": {
   "display_name": "Python 3 (ipykernel)",
   "language": "python",
   "name": "python3"
  },
  "language_info": {
   "codemirror_mode": {
    "name": "ipython",
    "version": 3
   },
   "file_extension": ".py",
   "mimetype": "text/x-python",
   "name": "python",
   "nbconvert_exporter": "python",
   "pygments_lexer": "ipython3",
   "version": "3.12.1"
  }
 },
 "nbformat": 4,
 "nbformat_minor": 5
}
